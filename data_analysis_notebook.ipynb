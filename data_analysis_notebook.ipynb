{
 "cells": [
  {
   "cell_type": "markdown",
   "metadata": {},
   "source": [
    "This notebook was used to generate all plots for the REPORT.md file. Please check REPORT.md instead."
   ]
  },
  {
   "cell_type": "markdown",
   "metadata": {},
   "source": [
    "## Imports"
   ]
  },
  {
   "cell_type": "code",
   "execution_count": null,
   "metadata": {},
   "outputs": [],
   "source": [
    "import pandas as pd\n",
    "from ens_load_forecast.paths import PATH_LOAD_ACTUAL, PATH_WEATHER, PATH_LOAD_FORECAST, PATH_ZONES_AND_STATIONS, PATH_MAP_DATA, PATH_DATA\n",
    "from ens_load_forecast.graphs import plot_load_per_zone, plot_load_seasonal, plot_on_map, correlation_heatmap, scatter_matrix\n",
    "from ens_load_forecast.data_preprocessing import get_load_forecast, get_load_actual, get_weather,get_preprocessed_weather, get_merged_dataset\n",
    "from ens_load_forecast.features_engineering import extract_features\n",
    "from ens_load_forecast.models import train_models_for_each_zone\n",
    "import ens_load_forecast.constants as cst\n",
    "import numpy as np\n"
   ]
  },
  {
   "cell_type": "markdown",
   "metadata": {},
   "source": [
    "## Actual load"
   ]
  },
  {
   "cell_type": "code",
   "execution_count": null,
   "metadata": {},
   "outputs": [],
   "source": [
    "df_load_actual = get_load_actual()\n",
    "# plot_load_per_zone(df = df_load_actual, title=\"Actual load evolution (per zone)\")"
   ]
  },
  {
   "cell_type": "code",
   "execution_count": null,
   "metadata": {},
   "outputs": [],
   "source": [
    "# plot_load_seasonal(df = df_load_actual, zone=\"N.Y.C.\", title=\"Actual load yearly heatmap in N.Y.C. (MW)\")"
   ]
  },
  {
   "cell_type": "code",
   "execution_count": null,
   "metadata": {},
   "outputs": [],
   "source": [
    "# df = df_load_actual.groupby(\"zone\").apply(lambda x:x.mean())\n",
    "# df[\"zone\"] = df.index\n",
    "# plot_on_map(df=df, quantity_key=\"load\", title=\"Average yearly load (MW)\")"
   ]
  },
  {
   "cell_type": "markdown",
   "metadata": {},
   "source": [
    "## Load forecast"
   ]
  },
  {
   "cell_type": "code",
   "execution_count": null,
   "metadata": {},
   "outputs": [],
   "source": [
    "df_load_forecast = get_load_forecast()\n",
    "# plot_load_per_zone(df = df_load_forecast, title=\"Forecast load evolution (per zone)\")"
   ]
  },
  {
   "cell_type": "code",
   "execution_count": null,
   "metadata": {},
   "outputs": [],
   "source": [
    "# df_load_forecast[cst.FORECAST_HORIZON].unique()"
   ]
  },
  {
   "cell_type": "code",
   "execution_count": null,
   "metadata": {},
   "outputs": [],
   "source": [
    "# plot_load_seasonal(df = df_load_forecast[df_load_forecast[cst.FORECAST_HORIZON] == 2], zone=\"NYISO\")"
   ]
  },
  {
   "cell_type": "markdown",
   "metadata": {},
   "source": [
    "## Weather"
   ]
  },
  {
   "cell_type": "code",
   "execution_count": null,
   "metadata": {},
   "outputs": [],
   "source": [
    "df_weather = get_weather(force_recompute=False)"
   ]
  },
  {
   "cell_type": "markdown",
   "metadata": {},
   "source": [
    "## Merge data"
   ]
  },
  {
   "cell_type": "code",
   "execution_count": null,
   "metadata": {},
   "outputs": [],
   "source": [
    "df_merged = get_merged_dataset(df_load_actual=df_load_actual, df_load_forecast=df_load_forecast, df_weather=df_weather)"
   ]
  },
  {
   "cell_type": "code",
   "execution_count": null,
   "metadata": {},
   "outputs": [],
   "source": [
    "df_features = extract_features(df_merged)\n",
    "# df_features"
   ]
  },
  {
   "cell_type": "code",
   "execution_count": null,
   "metadata": {},
   "outputs": [],
   "source": [
    "df = df_features[df_features[cst.ZONE] == \"MHK VL\"]\n",
    "# correlation_heatmap(df= df, title=\"Features correlation heatmap (pearson) (Mohawk Valley)\")\n",
    "# scatter_matrix(df=df, title=\"Scatter matrix (Mohawk Valley)\")"
   ]
  },
  {
   "cell_type": "code",
   "execution_count": null,
   "metadata": {},
   "outputs": [],
   "source": [
    "\n",
    "df = df_features[df_features[cst.ZONE] == \"N.Y.C.\"]\n",
    "(df[cst.LOAD] - df[cst.LOAD_FORECAST]).plot(backend = \"plotly\")"
   ]
  },
  {
   "cell_type": "code",
   "execution_count": null,
   "metadata": {},
   "outputs": [],
   "source": [
    "\n",
    "# series = df_merged.groupby(cst.ZONE).apply(lambda x: (np.abs((x[\"load\"] - x[\"load_forecast\"])/x[\"load\"])).mean())\n",
    "# df = pd.DataFrame(data=series, index=series.index, columns=[\"load_forecast_error\"])\n",
    "# df[\"zone\"] = df.index\n",
    "# plot_on_map(df = df, quantity_key=\"load_forecast_error\", title=\"Forecast error %MAE\")"
   ]
  },
  {
   "cell_type": "markdown",
   "metadata": {},
   "source": [
    "## Models"
   ]
  },
  {
   "cell_type": "code",
   "execution_count": null,
   "metadata": {},
   "outputs": [],
   "source": [
    "models, scores = train_models_for_each_zone(df_features=df_features)"
   ]
  },
  {
   "cell_type": "code",
   "execution_count": null,
   "metadata": {},
   "outputs": [],
   "source": [
    "best_models = {}\n",
    "best_scores = {}\n",
    "for zone, zone_scores in scores.items():\n",
    "    best_model = \"\"\n",
    "    best_score = 1.1\n",
    "    for model_name, model_scores in zone_scores.items():\n",
    "        score = model_scores[\"train\"][\"rmse\"] / zone_scores[\"naive_model\"][\"train\"][\"rmse\"]\n",
    "        if score < best_score:\n",
    "            best_model = model_name\n",
    "            best_score = score\n",
    "    best_models[zone] = best_model\n",
    "    best_scores[zone] = best_score\n",
    "\n"
   ]
  },
  {
   "cell_type": "code",
   "execution_count": null,
   "metadata": {},
   "outputs": [],
   "source": [
    "df = pd.DataFrame(data=pd.Series(best_scores), columns = [\"NRMSE\"])\n",
    "df[cst.ZONE] = df.index\n",
    "plot_on_map(df=df, quantity_key=\"NRMSE\", title=\"Best achieved NRMSE per zone (the lower the better) (train set)\")"
   ]
  },
  {
   "cell_type": "code",
   "execution_count": null,
   "metadata": {},
   "outputs": [],
   "source": [
    "df = pd.DataFrame(data=pd.Series(best_models), columns = [\"model_name\"])\n",
    "df[cst.ZONE] = df.index\n",
    "plot_on_map(df=df, quantity_key=\"model_name\", title=\"Best model (train set)\")"
   ]
  }
 ],
 "metadata": {
  "kernelspec": {
   "display_name": "venv",
   "language": "python",
   "name": "python3"
  },
  "language_info": {
   "codemirror_mode": {
    "name": "ipython",
    "version": 3
   },
   "file_extension": ".py",
   "mimetype": "text/x-python",
   "name": "python",
   "nbconvert_exporter": "python",
   "pygments_lexer": "ipython3",
   "version": "3.10.12"
  },
  "orig_nbformat": 4
 },
 "nbformat": 4,
 "nbformat_minor": 2
}
