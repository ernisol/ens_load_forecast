{
 "cells": [
  {
   "cell_type": "markdown",
   "metadata": {},
   "source": [
    "## Imports"
   ]
  },
  {
   "cell_type": "code",
   "execution_count": 1,
   "metadata": {},
   "outputs": [],
   "source": [
    "import pandas as pd\n",
    "from ens_load_forecast.paths import PATH_LOAD_ACTUAL, PATH_WEATHER, PATH_LOAD_FORECAST, PATH_ZONES_AND_STATIONS, PATH_MAP_DATA, PATH_DATA\n",
    "from ens_load_forecast.graphs import plot_load_per_zone, plot_load_seasonal, plot_on_map\n",
    "from ens_load_forecast.data_preprocessing import get_load_forecast, get_load_actual, get_weather,get_preprocessed_weather, get_merged_dataset\n",
    "import ens_load_forecast.constants as cst\n",
    "import numpy as np\n"
   ]
  },
  {
   "cell_type": "markdown",
   "metadata": {},
   "source": [
    "## Actual load"
   ]
  },
  {
   "cell_type": "code",
   "execution_count": 2,
   "metadata": {},
   "outputs": [],
   "source": [
    "df_load_actual = get_load_actual()\n",
    "# plot_load_per_zone(df = df_load_actual)"
   ]
  },
  {
   "cell_type": "code",
   "execution_count": 3,
   "metadata": {},
   "outputs": [],
   "source": [
    "# plot_load_seasonal(df = df_load_actual, zone=\"N.Y.C.\")"
   ]
  },
  {
   "cell_type": "code",
   "execution_count": 4,
   "metadata": {},
   "outputs": [],
   "source": [
    "# df = df_load_actual.groupby(\"zone\").apply(lambda x:x.mean())\n",
    "# df[\"zone\"] = df.index\n",
    "# plot_on_map(df=df, quantity_key=\"load\")"
   ]
  },
  {
   "cell_type": "markdown",
   "metadata": {},
   "source": [
    "## Load forecast"
   ]
  },
  {
   "cell_type": "code",
   "execution_count": 5,
   "metadata": {},
   "outputs": [
    {
     "name": "stderr",
     "output_type": "stream",
     "text": [
      "/home/enisol/projects/ens_load_forecast/ens_load_forecast/data_preprocessing.py:170: SettingWithCopyWarning: \n",
      "A value is trying to be set on a copy of a slice from a DataFrame.\n",
      "Try using .loc[row_indexer,col_indexer] = value instead\n",
      "\n",
      "See the caveats in the documentation: https://pandas.pydata.org/pandas-docs/stable/user_guide/indexing.html#returning-a-view-versus-a-copy\n",
      "  df[\"tmp_col\"] = df.index\n"
     ]
    }
   ],
   "source": [
    "df_load_forecast = get_load_forecast()\n",
    "# plot_load_per_zone(df = df_load_forecast[df_load_forecast[cst.FORECAST_HORIZON] == 2])"
   ]
  },
  {
   "cell_type": "code",
   "execution_count": 6,
   "metadata": {},
   "outputs": [],
   "source": [
    "# df_load_forecast[cst.FORECAST_HORIZON].unique()"
   ]
  },
  {
   "cell_type": "code",
   "execution_count": 7,
   "metadata": {},
   "outputs": [],
   "source": [
    "# plot_load_seasonal(df = df_load_forecast[df_load_forecast[cst.FORECAST_HORIZON] == 2], zone=\"NYISO\")"
   ]
  },
  {
   "cell_type": "markdown",
   "metadata": {},
   "source": [
    "## Weather"
   ]
  },
  {
   "cell_type": "code",
   "execution_count": 8,
   "metadata": {},
   "outputs": [],
   "source": [
    "df_weather = get_weather(force_recompute=False)"
   ]
  },
  {
   "cell_type": "code",
   "execution_count": 9,
   "metadata": {},
   "outputs": [
    {
     "data": {
      "text/html": [
       "<div>\n",
       "<style scoped>\n",
       "    .dataframe tbody tr th:only-of-type {\n",
       "        vertical-align: middle;\n",
       "    }\n",
       "\n",
       "    .dataframe tbody tr th {\n",
       "        vertical-align: top;\n",
       "    }\n",
       "\n",
       "    .dataframe thead th {\n",
       "        text-align: right;\n",
       "    }\n",
       "</style>\n",
       "<table border=\"1\" class=\"dataframe\">\n",
       "  <thead>\n",
       "    <tr style=\"text-align: right;\">\n",
       "      <th></th>\n",
       "      <th>zone</th>\n",
       "      <th>tmp</th>\n",
       "      <th>dpt</th>\n",
       "      <th>sky</th>\n",
       "      <th>wdr</th>\n",
       "      <th>gst</th>\n",
       "      <th>psn</th>\n",
       "    </tr>\n",
       "    <tr>\n",
       "      <th>delivery_ts</th>\n",
       "      <th></th>\n",
       "      <th></th>\n",
       "      <th></th>\n",
       "      <th></th>\n",
       "      <th></th>\n",
       "      <th></th>\n",
       "      <th></th>\n",
       "    </tr>\n",
       "  </thead>\n",
       "  <tbody>\n",
       "    <tr>\n",
       "      <th>2020-06-29 23:00:00-05:00</th>\n",
       "      <td>CAPITL</td>\n",
       "      <td>66.44</td>\n",
       "      <td>62.76</td>\n",
       "      <td>67.13</td>\n",
       "      <td>34.93</td>\n",
       "      <td>8.21</td>\n",
       "      <td>0.0</td>\n",
       "    </tr>\n",
       "    <tr>\n",
       "      <th>2020-06-29 23:00:00-05:00</th>\n",
       "      <td>CENTRL</td>\n",
       "      <td>64.94</td>\n",
       "      <td>62.39</td>\n",
       "      <td>44.74</td>\n",
       "      <td>30.67</td>\n",
       "      <td>4.56</td>\n",
       "      <td>0.0</td>\n",
       "    </tr>\n",
       "    <tr>\n",
       "      <th>2020-06-29 23:00:00-05:00</th>\n",
       "      <td>DUNWOD</td>\n",
       "      <td>69.00</td>\n",
       "      <td>64.00</td>\n",
       "      <td>31.00</td>\n",
       "      <td>34.00</td>\n",
       "      <td>7.00</td>\n",
       "      <td>0.0</td>\n",
       "    </tr>\n",
       "    <tr>\n",
       "      <th>2020-06-29 23:00:00-05:00</th>\n",
       "      <td>GENESE</td>\n",
       "      <td>67.60</td>\n",
       "      <td>62.15</td>\n",
       "      <td>19.25</td>\n",
       "      <td>7.55</td>\n",
       "      <td>6.55</td>\n",
       "      <td>0.0</td>\n",
       "    </tr>\n",
       "    <tr>\n",
       "      <th>2020-06-29 23:00:00-05:00</th>\n",
       "      <td>HUD VL</td>\n",
       "      <td>66.68</td>\n",
       "      <td>63.04</td>\n",
       "      <td>42.15</td>\n",
       "      <td>34.56</td>\n",
       "      <td>4.89</td>\n",
       "      <td>0.0</td>\n",
       "    </tr>\n",
       "    <tr>\n",
       "      <th>...</th>\n",
       "      <td>...</td>\n",
       "      <td>...</td>\n",
       "      <td>...</td>\n",
       "      <td>...</td>\n",
       "      <td>...</td>\n",
       "      <td>...</td>\n",
       "      <td>...</td>\n",
       "    </tr>\n",
       "    <tr>\n",
       "      <th>2023-06-29 23:00:00-05:00</th>\n",
       "      <td>MHK VL</td>\n",
       "      <td>61.82</td>\n",
       "      <td>56.43</td>\n",
       "      <td>10.13</td>\n",
       "      <td>14.32</td>\n",
       "      <td>3.89</td>\n",
       "      <td>0.0</td>\n",
       "    </tr>\n",
       "    <tr>\n",
       "      <th>2023-06-29 23:00:00-05:00</th>\n",
       "      <td>MILLWD</td>\n",
       "      <td>68.00</td>\n",
       "      <td>62.00</td>\n",
       "      <td>20.00</td>\n",
       "      <td>19.00</td>\n",
       "      <td>5.00</td>\n",
       "      <td>0.0</td>\n",
       "    </tr>\n",
       "    <tr>\n",
       "      <th>2023-06-29 23:00:00-05:00</th>\n",
       "      <td>N.Y.C.</td>\n",
       "      <td>73.95</td>\n",
       "      <td>61.63</td>\n",
       "      <td>20.16</td>\n",
       "      <td>18.42</td>\n",
       "      <td>7.21</td>\n",
       "      <td>0.0</td>\n",
       "    </tr>\n",
       "    <tr>\n",
       "      <th>2023-06-29 23:00:00-05:00</th>\n",
       "      <td>NORTH</td>\n",
       "      <td>64.00</td>\n",
       "      <td>60.00</td>\n",
       "      <td>11.00</td>\n",
       "      <td>20.00</td>\n",
       "      <td>3.00</td>\n",
       "      <td>0.0</td>\n",
       "    </tr>\n",
       "    <tr>\n",
       "      <th>2023-06-29 23:00:00-05:00</th>\n",
       "      <td>WEST</td>\n",
       "      <td>65.81</td>\n",
       "      <td>56.05</td>\n",
       "      <td>43.24</td>\n",
       "      <td>12.03</td>\n",
       "      <td>5.73</td>\n",
       "      <td>0.0</td>\n",
       "    </tr>\n",
       "  </tbody>\n",
       "</table>\n",
       "<p>222255 rows × 7 columns</p>\n",
       "</div>"
      ],
      "text/plain": [
       "                             zone    tmp    dpt    sky    wdr   gst  psn\n",
       "delivery_ts                                                             \n",
       "2020-06-29 23:00:00-05:00  CAPITL  66.44  62.76  67.13  34.93  8.21  0.0\n",
       "2020-06-29 23:00:00-05:00  CENTRL  64.94  62.39  44.74  30.67  4.56  0.0\n",
       "2020-06-29 23:00:00-05:00  DUNWOD  69.00  64.00  31.00  34.00  7.00  0.0\n",
       "2020-06-29 23:00:00-05:00  GENESE  67.60  62.15  19.25   7.55  6.55  0.0\n",
       "2020-06-29 23:00:00-05:00  HUD VL  66.68  63.04  42.15  34.56  4.89  0.0\n",
       "...                           ...    ...    ...    ...    ...   ...  ...\n",
       "2023-06-29 23:00:00-05:00  MHK VL  61.82  56.43  10.13  14.32  3.89  0.0\n",
       "2023-06-29 23:00:00-05:00  MILLWD  68.00  62.00  20.00  19.00  5.00  0.0\n",
       "2023-06-29 23:00:00-05:00  N.Y.C.  73.95  61.63  20.16  18.42  7.21  0.0\n",
       "2023-06-29 23:00:00-05:00   NORTH  64.00  60.00  11.00  20.00  3.00  0.0\n",
       "2023-06-29 23:00:00-05:00    WEST  65.81  56.05  43.24  12.03  5.73  0.0\n",
       "\n",
       "[222255 rows x 7 columns]"
      ]
     },
     "execution_count": 9,
     "metadata": {},
     "output_type": "execute_result"
    }
   ],
   "source": [
    "df_weather"
   ]
  },
  {
   "cell_type": "markdown",
   "metadata": {},
   "source": [
    "## Merge data"
   ]
  },
  {
   "cell_type": "code",
   "execution_count": 10,
   "metadata": {},
   "outputs": [],
   "source": [
    "df_merged = get_merged_dataset(df_load_actual=df_load_actual, df_load_forecast=df_load_forecast, df_weather=df_weather)"
   ]
  },
  {
   "cell_type": "code",
   "execution_count": 11,
   "metadata": {},
   "outputs": [],
   "source": [
    "from ens_load_forecast.features_engineering import add_day_of_week, process_wind_direction\n",
    "df_features = process_wind_direction(add_day_of_week(df_merged))"
   ]
  },
  {
   "cell_type": "code",
   "execution_count": 12,
   "metadata": {},
   "outputs": [],
   "source": [
    "\n",
    "# series = df_merged.groupby(cst.ZONE).apply(lambda x: np.sqrt(((x[\"load\"] - x[\"load_forecast\"])**2).mean()))\n",
    "# df = pd.DataFrame(data=series, index=series.index, columns=[\"load_forecast_error\"])\n",
    "# df[\"zone\"] = df.index\n",
    "# plot_on_map(df = df, quantity_key=\"load_forecast_error\")"
   ]
  },
  {
   "cell_type": "code",
   "execution_count": 13,
   "metadata": {},
   "outputs": [],
   "source": [
    "from sklearn.pipeline import Pipeline\n",
    "from sklearn.preprocessing import PolynomialFeatures\n",
    "from sklearn.linear_model import LinearRegression\n",
    "from sklearn.ensemble import GradientBoostingRegressor\n",
    "\n",
    "models = {}\n",
    "mse = {}\n",
    "for zone in df_features[cst.ZONE].unique():\n",
    "    df = df_features[df_features[cst.ZONE] == zone]\n",
    "    # model = Pipeline(\n",
    "    #     steps=[\n",
    "    #         (\"polynomial_features\", PolynomialFeatures(degree=2, include_bias=False)),\n",
    "    #         (\"linear_regression\", LinearRegression(fit_intercept=True)),\n",
    "    #     ]\n",
    "    # )\n",
    "    model = GradientBoostingRegressor() \n",
    "    model.fit(X = df[cst.FEATURES_LIST], y = df[\"load\"])\n",
    "    models[zone] = model\n",
    "    mse[zone] = np.sqrt(((model.predict(X=df[cst.FEATURES_LIST]) - df[\"load\"])**2).mean())"
   ]
  },
  {
   "cell_type": "code",
   "execution_count": 15,
   "metadata": {},
   "outputs": [
    {
     "data": {
      "text/html": [
       "<div>\n",
       "<style scoped>\n",
       "    .dataframe tbody tr th:only-of-type {\n",
       "        vertical-align: middle;\n",
       "    }\n",
       "\n",
       "    .dataframe tbody tr th {\n",
       "        vertical-align: top;\n",
       "    }\n",
       "\n",
       "    .dataframe thead th {\n",
       "        text-align: right;\n",
       "    }\n",
       "</style>\n",
       "<table border=\"1\" class=\"dataframe\">\n",
       "  <thead>\n",
       "    <tr style=\"text-align: right;\">\n",
       "      <th></th>\n",
       "      <th>mse</th>\n",
       "    </tr>\n",
       "  </thead>\n",
       "  <tbody>\n",
       "    <tr>\n",
       "      <th>CAPITL</th>\n",
       "      <td>50.910383</td>\n",
       "    </tr>\n",
       "    <tr>\n",
       "      <th>CENTRL</th>\n",
       "      <td>55.881165</td>\n",
       "    </tr>\n",
       "    <tr>\n",
       "      <th>DUNWOD</th>\n",
       "      <td>28.631655</td>\n",
       "    </tr>\n",
       "    <tr>\n",
       "      <th>GENESE</th>\n",
       "      <td>37.730104</td>\n",
       "    </tr>\n",
       "    <tr>\n",
       "      <th>HUD VL</th>\n",
       "      <td>44.670012</td>\n",
       "    </tr>\n",
       "    <tr>\n",
       "      <th>LONGIL</th>\n",
       "      <td>104.639295</td>\n",
       "    </tr>\n",
       "    <tr>\n",
       "      <th>MHK VL</th>\n",
       "      <td>42.047039</td>\n",
       "    </tr>\n",
       "    <tr>\n",
       "      <th>MILLWD</th>\n",
       "      <td>21.110713</td>\n",
       "    </tr>\n",
       "    <tr>\n",
       "      <th>N.Y.C.</th>\n",
       "      <td>140.524255</td>\n",
       "    </tr>\n",
       "    <tr>\n",
       "      <th>NORTH</th>\n",
       "      <td>22.140644</td>\n",
       "    </tr>\n",
       "    <tr>\n",
       "      <th>WEST</th>\n",
       "      <td>54.093737</td>\n",
       "    </tr>\n",
       "  </tbody>\n",
       "</table>\n",
       "</div>"
      ],
      "text/plain": [
       "               mse\n",
       "CAPITL   50.910383\n",
       "CENTRL   55.881165\n",
       "DUNWOD   28.631655\n",
       "GENESE   37.730104\n",
       "HUD VL   44.670012\n",
       "LONGIL  104.639295\n",
       "MHK VL   42.047039\n",
       "MILLWD   21.110713\n",
       "N.Y.C.  140.524255\n",
       "NORTH    22.140644\n",
       "WEST     54.093737"
      ]
     },
     "execution_count": 15,
     "metadata": {},
     "output_type": "execute_result"
    }
   ],
   "source": [
    "df_mse = pd.DataFrame(data=pd.Series(mse), columns=[\"mse\"])\n",
    "df_mse"
   ]
  },
  {
   "cell_type": "code",
   "execution_count": null,
   "metadata": {},
   "outputs": [],
   "source": [
    "\n",
    "series = df_merged.groupby(cst.ZONE).apply(lambda x: np.sqrt(((x[\"load\"] - x[\"load_forecast\"])**2).mean()))\n",
    "df_original_mse = pd.DataFrame(data=series, index=series.index, columns=[\"load_forecast_error\"])\n",
    "df_original_mse[\"zone\"] = df_original_mse.index"
   ]
  },
  {
   "cell_type": "code",
   "execution_count": null,
   "metadata": {},
   "outputs": [],
   "source": [
    "df = pd.DataFrame(df_mse[\"mse\"] / df_mse[\"original_mse\"], columns=[\"mse_normalized\"])\n",
    "df[cst.ZONE] = df.index\n",
    "plot_on_map(df=df, quantity_key=\"mse_normalized\")"
   ]
  },
  {
   "cell_type": "code",
   "execution_count": null,
   "metadata": {},
   "outputs": [],
   "source": [
    "df = df_merged[df_merged[cst.ZONE] == \"N.Y.C.\"]\n",
    "\n",
    "\n",
    "(df[\"load_forecast\"] - df[\"load\"]).plot(backend=\"plotly\")"
   ]
  }
 ],
 "metadata": {
  "kernelspec": {
   "display_name": "venv",
   "language": "python",
   "name": "python3"
  },
  "language_info": {
   "codemirror_mode": {
    "name": "ipython",
    "version": 3
   },
   "file_extension": ".py",
   "mimetype": "text/x-python",
   "name": "python",
   "nbconvert_exporter": "python",
   "pygments_lexer": "ipython3",
   "version": "3.10.12"
  },
  "orig_nbformat": 4
 },
 "nbformat": 4,
 "nbformat_minor": 2
}
