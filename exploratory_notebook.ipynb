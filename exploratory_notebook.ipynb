{
 "cells": [
  {
   "cell_type": "markdown",
   "metadata": {},
   "source": [
    "## Imports"
   ]
  },
  {
   "cell_type": "code",
   "execution_count": null,
   "metadata": {},
   "outputs": [],
   "source": [
    "import pandas as pd\n",
    "from ens_load_forecast.paths import PATH_LOAD_ACTUAL, PATH_WEATHER, PATH_LOAD_FORECAST, PATH_ZONES_AND_STATIONS, PATH_MAP_DATA, PATH_DATA\n",
    "from ens_load_forecast.graphs import plot_load_per_zone, plot_load_seasonal, plot_on_map\n",
    "from ens_load_forecast.data_preprocessing import get_load_forecast, get_load_actual, get_weather,get_preprocessed_weather, get_merged_dataset\n",
    "import ens_load_forecast.constants as cst\n",
    "import numpy as np\n"
   ]
  },
  {
   "cell_type": "markdown",
   "metadata": {},
   "source": [
    "## Actual load"
   ]
  },
  {
   "cell_type": "code",
   "execution_count": null,
   "metadata": {},
   "outputs": [],
   "source": [
    "df_load_actual = get_load_actual()\n",
    "# plot_load_per_zone(df = df_load_actual)"
   ]
  },
  {
   "cell_type": "code",
   "execution_count": null,
   "metadata": {},
   "outputs": [],
   "source": [
    "# plot_load_seasonal(df = df_load_actual, zone=\"N.Y.C.\")"
   ]
  },
  {
   "cell_type": "code",
   "execution_count": null,
   "metadata": {},
   "outputs": [],
   "source": [
    "# df = df_load_actual.groupby(\"zone\").apply(lambda x:x.mean())\n",
    "# df[\"zone\"] = df.index\n",
    "# plot_on_map(df=df, quantity_key=\"load\")"
   ]
  },
  {
   "cell_type": "markdown",
   "metadata": {},
   "source": [
    "## Load forecast"
   ]
  },
  {
   "cell_type": "code",
   "execution_count": null,
   "metadata": {},
   "outputs": [],
   "source": [
    "df_load_forecast = get_load_forecast()\n",
    "# plot_load_per_zone(df = df_load_forecast[df_load_forecast[cst.FORECAST_HORIZON] == 2])"
   ]
  },
  {
   "cell_type": "code",
   "execution_count": null,
   "metadata": {},
   "outputs": [],
   "source": [
    "# df_load_forecast[cst.FORECAST_HORIZON].unique()"
   ]
  },
  {
   "cell_type": "code",
   "execution_count": null,
   "metadata": {},
   "outputs": [],
   "source": [
    "# plot_load_seasonal(df = df_load_forecast[df_load_forecast[cst.FORECAST_HORIZON] == 2], zone=\"NYISO\")"
   ]
  },
  {
   "cell_type": "markdown",
   "metadata": {},
   "source": [
    "## Weather"
   ]
  },
  {
   "cell_type": "code",
   "execution_count": null,
   "metadata": {},
   "outputs": [],
   "source": [
    "df_weather = get_weather(force_recompute=False)"
   ]
  },
  {
   "cell_type": "code",
   "execution_count": null,
   "metadata": {},
   "outputs": [],
   "source": [
    "df_weather"
   ]
  },
  {
   "cell_type": "markdown",
   "metadata": {},
   "source": [
    "## Merge data"
   ]
  },
  {
   "cell_type": "code",
   "execution_count": null,
   "metadata": {},
   "outputs": [],
   "source": [
    "df_merged = get_merged_dataset(df_load_actual=df_load_actual, df_load_forecast=df_load_forecast, df_weather=df_weather)"
   ]
  },
  {
   "cell_type": "code",
   "execution_count": null,
   "metadata": {},
   "outputs": [],
   "source": [
    "from ens_load_forecast.features_engineering import add_day_of_week, process_wind_direction\n",
    "df_features = process_wind_direction(add_day_of_week(df_merged))"
   ]
  },
  {
   "cell_type": "code",
   "execution_count": null,
   "metadata": {},
   "outputs": [],
   "source": [
    "\n",
    "# series = df_merged.groupby(cst.ZONE).apply(lambda x: np.sqrt(((x[\"load\"] - x[\"load_forecast\"])**2).mean()))\n",
    "# df = pd.DataFrame(data=series, index=series.index, columns=[\"load_forecast_error\"])\n",
    "# df[\"zone\"] = df.index\n",
    "# plot_on_map(df = df, quantity_key=\"load_forecast_error\")"
   ]
  },
  {
   "cell_type": "code",
   "execution_count": null,
   "metadata": {},
   "outputs": [],
   "source": [
    "from ens_load_forecast.models import train_models_for_each_zone\n",
    "models, scores = train_models_for_each_zone(df_features=df_features)"
   ]
  },
  {
   "cell_type": "code",
   "execution_count": null,
   "metadata": {},
   "outputs": [],
   "source": [
    "pd.DataFrame(data=scores)"
   ]
  }
 ],
 "metadata": {
  "kernelspec": {
   "display_name": "venv",
   "language": "python",
   "name": "python3"
  },
  "language_info": {
   "codemirror_mode": {
    "name": "ipython",
    "version": 3
   },
   "file_extension": ".py",
   "mimetype": "text/x-python",
   "name": "python",
   "nbconvert_exporter": "python",
   "pygments_lexer": "ipython3",
   "version": "3.10.12"
  },
  "orig_nbformat": 4
 },
 "nbformat": 4,
 "nbformat_minor": 2
}
